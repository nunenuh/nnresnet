{
  "nbformat": 4,
  "nbformat_minor": 0,
  "metadata": {
    "colab": {
      "name": "Untitled1.ipynb",
      "version": "0.3.2",
      "provenance": [],
      "private_outputs": true,
      "include_colab_link": true
    },
    "kernelspec": {
      "name": "python3",
      "display_name": "Python 3"
    },
    "accelerator": "GPU"
  },
  "cells": [
    {
      "cell_type": "markdown",
      "metadata": {
        "id": "view-in-github",
        "colab_type": "text"
      },
      "source": [
        "[View in Colaboratory](https://colab.research.google.com/github/nunenuh/nnresnet/blob/master/collab_resnet.ipynb)"
      ]
    },
    {
      "metadata": {
        "id": "bsMdVI19D8Eu",
        "colab_type": "code",
        "colab": {}
      },
      "cell_type": "code",
      "source": [
        "%matplotlib inline\n",
        "\n",
        "import matplotlib.pyplot as plt\n",
        "import numpy as np\n",
        "from keras import utils\n",
        "from keras.models import Model\n",
        "from keras.layers import *\n",
        "from keras.datasets import cifar10\n",
        "\n",
        "import tensorflow as tf\n",
        "from keras.backend.tensorflow_backend import set_session"
      ],
      "execution_count": 0,
      "outputs": []
    },
    {
      "metadata": {
        "id": "iwoX9XwCEIcR",
        "colab_type": "code",
        "colab": {}
      },
      "cell_type": "code",
      "source": [
        "# load dataset\n",
        "(x_train, y_train), (x_test, y_test) = cifar10.load_data()\n",
        "x_train = x_train[:20000]\n",
        "y_train = y_train[:20000]\n",
        "\n",
        "x_test = x_test[:5000]\n",
        "y_test = y_test[:5000]"
      ],
      "execution_count": 0,
      "outputs": []
    },
    {
      "metadata": {
        "id": "kFrk4_YhERS0",
        "colab_type": "code",
        "colab": {}
      },
      "cell_type": "code",
      "source": [
        "# normalisasi dataset\n",
        "x_train = x_train.astype('float32')\n",
        "x_test = x_test.astype('float32')\n",
        "\n",
        "x_train /= 255\n",
        "x_test /= 255\n",
        "\n",
        "num_class = 10\n",
        "y_train = utils.np_utils.to_categorical(y_train, num_class)\n",
        "y_test = utils.np_utils.to_categorical(y_test, num_class)"
      ],
      "execution_count": 0,
      "outputs": []
    },
    {
      "metadata": {
        "id": "Tvq-5-0dEWao",
        "colab_type": "code",
        "colab": {}
      },
      "cell_type": "code",
      "source": [
        "# arsitektur\n",
        "def residual_block(inputz, filterz):\n",
        "    bc1 = Conv2D(filterz, kernel_size=(3,3), padding='same')(inputz)\n",
        "    bbn1 = BatchNormalization()(bc1)\n",
        "    bac1 = Activation('relu')(bbn1)\n",
        "    dr1 = Dropout(0.25)(bac1)\n",
        "    bc2 = Conv2D(filterz, kernel_size=(3,3), padding='same')(bac1)\n",
        "    bbn2 = BatchNormalization()(bc2)\n",
        "    add1 = Concatenate()([inputz, bbn2])\n",
        "    bac2 = Activation('relu')(add1)\n",
        "    dr1 = Dropout(0.25)(bac1)\n",
        "    return bac2\n",
        "\n",
        "# ishape = x_train[0].shape\n",
        "ishape = (32, 32, 3)\n",
        "\n",
        "inp = Input(shape=ishape)\n",
        "# 32x32\n",
        "c1 = Conv2D(filters=32, kernel_size=(7,7), strides=(2,2), padding='same')(inp)\n",
        "# 16x16\n",
        "\n",
        "p1 = MaxPooling2D(pool_size=(2, 2))(c1)\n",
        "# 8x8\n",
        "r1 = residual_block(inputz=p1, filterz=32)\n",
        "r11 = residual_block(inputz=r1, filterz=32)\n",
        "r12 = residual_block(inputz=r11, filterz=32)\n",
        "\n",
        "# 8x8\n",
        "\n",
        "p2 = MaxPooling2D(pool_size=(2, 2))(r12)\n",
        "# 4x4\n",
        "r2 = residual_block(inputz=p2, filterz=64)\n",
        "r21 = residual_block(inputz=r2, filterz=64)\n",
        "r22 = residual_block(inputz=r21, filterz=64)\n",
        "\n",
        "# 4x4\n",
        "\n",
        "p4 = AveragePooling2D(pool_size=(2,2))(r22)\n",
        "fl1 = Flatten()(p4)\n",
        "fc = Dense(num_class, activation='softmax')(fl1)\n",
        "output = fc\n",
        "\n",
        "model = Model(inp, output)\n",
        "model.compile(loss='categorical_crossentropy',optimizer='adam', metrics=['accuracy'])\n",
        "model.summary()\n",
        "# residual block\n"
      ],
      "execution_count": 0,
      "outputs": []
    },
    {
      "metadata": {
        "id": "NFCVHfc-HX16",
        "colab_type": "code",
        "colab": {}
      },
      "cell_type": "code",
      "source": [
        "!wget https://pbs.twimg.com/media/Cdw8VlSWAAAB9FF.jpg"
      ],
      "execution_count": 0,
      "outputs": []
    },
    {
      "metadata": {
        "id": "RhbHbmxyHx3s",
        "colab_type": "code",
        "colab": {}
      },
      "cell_type": "code",
      "source": [
        "!ls -al"
      ],
      "execution_count": 0,
      "outputs": []
    },
    {
      "metadata": {
        "id": "qDFlnYdVEc8O",
        "colab_type": "code",
        "colab": {}
      },
      "cell_type": "code",
      "source": [
        "model.fit(\n",
        "    x_train, y_train,\n",
        "    validation_data=(x_test,y_test),\n",
        "    epochs=10, batch_size=64\n",
        ")"
      ],
      "execution_count": 0,
      "outputs": []
    }
  ]
}